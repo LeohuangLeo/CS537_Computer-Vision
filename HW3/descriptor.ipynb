{
 "cells": [
  {
   "cell_type": "code",
   "execution_count": 1,
   "metadata": {},
   "outputs": [],
   "source": [
    "from __future__ import division, print_function\n",
    "import glob\n",
    "import os\n",
    "import cv2\n",
    "import PIL\n",
    "import random\n",
    "import numpy as np\n",
    "import pandas as pd\n",
    "import matplotlib.pyplot as plt\n",
    "import matplotlib.image as mpimg\n",
    "import torch\n",
    "import torch.nn.init\n",
    "import torch.nn as nn\n",
    "import torch.optim as optim\n",
    "import torch.backends.cudnn as cudnn\n",
    "import torch.nn.functional as F\n",
    "import torchvision.datasets as dset\n",
    "import torchvision.transforms as transforms\n",
    "from tqdm import tqdm\n",
    "from torch.autograd import Variable\n",
    "from copy import deepcopy, copy\n",
    "from config_profile import args\n",
    "from Utils import cv2_scale36, cv2_scale, np_reshape, np_reshape64\n",
    "from Utils import L2Norm, cv2_scale, np_reshape"
   ]
  },
  {
   "cell_type": "code",
   "execution_count": 2,
   "metadata": {},
   "outputs": [
    {
     "data": {
      "text/plain": [
       "<All keys matched successfully>"
      ]
     },
     "execution_count": 2,
     "metadata": {},
     "output_type": "execute_result"
    }
   ],
   "source": [
    "os.environ[\"CUDA_VISIBLE_DEVICES\"] = \"1\" \n",
    "from descriptor_CNN import DesNet\n",
    "model = DesNet()\n",
    "model.eval()\n",
    "if args.cuda:\n",
    "    model.cuda()\n",
    "weight_path = \"checkpoint.pth\"\n",
    "trained_weight = torch.load(weight_path)\n",
    "model.load_state_dict(trained_weight['state_dict'])"
   ]
  },
  {
   "cell_type": "code",
   "execution_count": 6,
   "metadata": {},
   "outputs": [],
   "source": [
    "# parameters setting\n",
    "query_path = \"Stereo_images/p_image/\"\n",
    "image_path = \"Stereo_images/q_image/\"\n",
    "query_num = 5    # total query image number\n",
    "image_num = 5    # total retrieval image number\n",
    "kps_num = 50       # key points number on one image\n",
    "patch_size = 32    # patch size\n",
    "patches = torch.zeros(query_num+image_num, kps_num,1, 32, 32)\n",
    "keypoints = torch.zeros(query_num+image_num, kps_num, 2)"
   ]
  },
  {
   "cell_type": "code",
   "execution_count": 7,
   "metadata": {},
   "outputs": [
    {
     "name": "stdout",
     "output_type": "stream",
     "text": [
      "query patches:  torch.Size([5, 50, 1, 32, 32])\n",
      "dataset patches:  torch.Size([5, 50, 1, 32, 32])\n"
     ]
    }
   ],
   "source": [
    "# load patches\n",
    "# query\n",
    "patches_p_dir = \"../huangtin_hw3/p_patches.pth\"\n",
    "patches_p = torch.load(patches_p_dir)\n",
    "print(\"query patches: \", patches_p.shape)\n",
    "patches_p =  patches_p.view(-1, 1, 32, 32).cuda()\n",
    "\n",
    "# dataset\n",
    "patches_q_dir = \"../huangtin_hw3/q_patches.pth\"\n",
    "patches_q = torch.load(patches_q_dir)\n",
    "print(\"dataset patches: \", patches_q.shape)\n",
    "patches_q =  patches_q.view(-1, 1, 32, 32).cuda()"
   ]
  },
  {
   "cell_type": "code",
   "execution_count": 9,
   "metadata": {},
   "outputs": [],
   "source": [
    "# query\n",
    "description_p = model(patches_p)\n",
    "description_p = description_p.view(-1, 50, 128)\n",
    "\n",
    "# dataset\n",
    "description_q = model(patches_q)\n",
    "description_q = description_q.view(-1, 50, 128)"
   ]
  },
  {
   "cell_type": "code",
   "execution_count": 10,
   "metadata": {},
   "outputs": [
    {
     "name": "stdout",
     "output_type": "stream",
     "text": [
      "p description:  torch.Size([5, 50, 128])\n",
      "q description:  torch.Size([5, 50, 128])\n"
     ]
    }
   ],
   "source": [
    "print(\"p description: \", description_p.shape)\n",
    "print(\"q description: \", description_q.shape)"
   ]
  },
  {
   "cell_type": "code",
   "execution_count": 11,
   "metadata": {},
   "outputs": [],
   "source": [
    "torch.save(description_p, \"p_description.pth\")\n",
    "torch.save(description_q, \"q_description.pth\")"
   ]
  },
  {
   "cell_type": "code",
   "execution_count": 12,
   "metadata": {},
   "outputs": [
    {
     "data": {
      "text/plain": [
       "tensor([[[ 0.0558, -0.0223, -0.0339,  ..., -0.0890,  0.1579, -0.1363],\n",
       "         [-0.0798, -0.1162, -0.1483,  ...,  0.0696,  0.0472, -0.0623],\n",
       "         [-0.0324,  0.0574, -0.0549,  ...,  0.0905,  0.0009, -0.0134],\n",
       "         ...,\n",
       "         [-0.0893, -0.0906,  0.0098,  ..., -0.0319,  0.0208, -0.0527],\n",
       "         [ 0.0854,  0.0371, -0.1394,  ..., -0.0092,  0.1534, -0.0751],\n",
       "         [ 0.0684,  0.1484,  0.1038,  ..., -0.0082, -0.1399, -0.0932]],\n",
       "\n",
       "        [[-0.0658, -0.0169, -0.0219,  ..., -0.2698, -0.0608,  0.0515],\n",
       "         [-0.1007, -0.0641,  0.0131,  ...,  0.1352,  0.0281, -0.0673],\n",
       "         [ 0.0819,  0.1091,  0.1318,  ...,  0.1033, -0.0431, -0.0120],\n",
       "         ...,\n",
       "         [ 0.0865, -0.0641, -0.2936,  ...,  0.0046, -0.0300, -0.0850],\n",
       "         [ 0.0494,  0.0693, -0.0622,  ...,  0.0542,  0.0267, -0.0751],\n",
       "         [-0.0557,  0.1777,  0.0126,  ..., -0.0003, -0.1812,  0.1345]],\n",
       "\n",
       "        [[-0.0472,  0.0028, -0.0238,  ...,  0.1323, -0.1395,  0.1121],\n",
       "         [-0.0777, -0.1367,  0.0401,  ..., -0.0692,  0.1046,  0.0176],\n",
       "         [ 0.0683,  0.0386, -0.1121,  ...,  0.0600, -0.1478, -0.0817],\n",
       "         ...,\n",
       "         [ 0.0721,  0.0024, -0.0795,  ...,  0.1400,  0.0561, -0.0384],\n",
       "         [ 0.1859, -0.0940, -0.0528,  ...,  0.0613, -0.0116, -0.0081],\n",
       "         [ 0.0934, -0.0726,  0.0559,  ..., -0.0506, -0.1408,  0.0790]],\n",
       "\n",
       "        [[ 0.0801, -0.0457, -0.2105,  ..., -0.1100, -0.0362,  0.1182],\n",
       "         [ 0.0696,  0.1380,  0.0324,  ...,  0.0992, -0.0545, -0.0059],\n",
       "         [ 0.1438,  0.0677, -0.0902,  ...,  0.0264,  0.0041,  0.0029],\n",
       "         ...,\n",
       "         [ 0.0851,  0.0511, -0.0181,  ...,  0.0332, -0.0438, -0.0782],\n",
       "         [ 0.0578, -0.1165,  0.1001,  ..., -0.0258,  0.0174, -0.0518],\n",
       "         [ 0.0912,  0.0217,  0.0997,  ...,  0.0613,  0.1326, -0.1349]],\n",
       "\n",
       "        [[ 0.0860, -0.1346, -0.0807,  ..., -0.0667,  0.1171, -0.0197],\n",
       "         [ 0.1409, -0.0194, -0.2067,  ..., -0.0188,  0.0161, -0.0192],\n",
       "         [-0.0208, -0.0102, -0.0478,  ..., -0.0294,  0.0066, -0.0086],\n",
       "         ...,\n",
       "         [ 0.0630,  0.0156, -0.0945,  ..., -0.0856,  0.0369, -0.0803],\n",
       "         [-0.0722, -0.1014, -0.0064,  ...,  0.1722, -0.0145, -0.1177],\n",
       "         [-0.0569, -0.0314,  0.0931,  ..., -0.1186, -0.1404,  0.0687]]],\n",
       "       device='cuda:0', grad_fn=<ViewBackward>)"
      ]
     },
     "execution_count": 12,
     "metadata": {},
     "output_type": "execute_result"
    }
   ],
   "source": [
    "description_p"
   ]
  },
  {
   "cell_type": "code",
   "execution_count": null,
   "metadata": {},
   "outputs": [],
   "source": []
  }
 ],
 "metadata": {
  "kernelspec": {
   "display_name": "Python 3",
   "language": "python",
   "name": "python3"
  },
  "language_info": {
   "codemirror_mode": {
    "name": "ipython",
    "version": 3
   },
   "file_extension": ".py",
   "mimetype": "text/x-python",
   "name": "python",
   "nbconvert_exporter": "python",
   "pygments_lexer": "ipython3",
   "version": "3.6.10"
  }
 },
 "nbformat": 4,
 "nbformat_minor": 4
}
