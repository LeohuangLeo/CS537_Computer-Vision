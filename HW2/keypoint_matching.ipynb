{
 "cells": [
  {
   "cell_type": "markdown",
   "metadata": {},
   "source": [
    "## Keypoint Matching"
   ]
  },
  {
   "cell_type": "markdown",
   "metadata": {},
   "source": [
    "### Import packages"
   ]
  },
  {
   "cell_type": "code",
   "execution_count": 1,
   "metadata": {},
   "outputs": [],
   "source": [
    "from __future__ import division, print_function\n",
    "import glob\n",
    "import os\n",
    "import cv2\n",
    "import PIL\n",
    "import random\n",
    "import numpy as np\n",
    "import pandas as pd\n",
    "import matplotlib.pyplot as plt\n",
    "import matplotlib.image as mpimg\n",
    "import torch\n",
    "import torch.nn.init\n",
    "import torch.nn as nn\n",
    "import torch.optim as optim\n",
    "import torch.backends.cudnn as cudnn\n",
    "import torch.nn.functional as F\n",
    "import torchvision.datasets as dset\n",
    "import torchvision.transforms as transforms\n",
    "from tqdm import tqdm\n",
    "from torch.autograd import Variable\n",
    "from copy import deepcopy, copy\n",
    "from Utils import cv2_scale36, cv2_scale, np_reshape, np_reshape64\n",
    "from scipy.optimize import linear_sum_assignment"
   ]
  },
  {
   "cell_type": "markdown",
   "metadata": {},
   "source": [
    "### Check GPU availability, using nvidia-smi "
   ]
  },
  {
   "cell_type": "code",
   "execution_count": 2,
   "metadata": {},
   "outputs": [],
   "source": [
    "import os\n",
    "os.environ[\"CUDA_VISIBLE_DEVICES\"] = \"1\""
   ]
  },
  {
   "cell_type": "markdown",
   "metadata": {},
   "source": [
    "### Load image and query description"
   ]
  },
  {
   "cell_type": "code",
   "execution_count": 3,
   "metadata": {},
   "outputs": [
    {
     "name": "stdout",
     "output_type": "stream",
     "text": [
      "torch.Size([136, 20, 128])\n",
      "torch.Size([34, 20, 128])\n"
     ]
    }
   ],
   "source": [
    "image_des = torch.load(\"image_description.pth\")\n",
    "query_des = torch.load(\"query_description.pth\")\n",
    "print(image_des.shape)\n",
    "print(query_des.shape)"
   ]
  },
  {
   "cell_type": "markdown",
   "metadata": {},
   "source": [
    "### many-to-mant and one-to-one matching"
   ]
  },
  {
   "cell_type": "code",
   "execution_count": 12,
   "metadata": {},
   "outputs": [],
   "source": [
    "def one2one_cost(query_des, image_des):\n",
    "    cost = torch.zeros(20, 20)\n",
    "    simi = torch.zeros(20, 20)\n",
    "    for i in range(20):\n",
    "        for j in range(20):\n",
    "            cost[i, j] = torch.dist(query_des[i], image_des[j], 2)\n",
    "            simi[i, j] = torch.exp(-1 * cost[i, j])\n",
    "    row_ind, col_ind = linear_sum_assignment(cost.cpu().numpy())\n",
    "    \n",
    "    return simi[row_ind, col_ind].sum()\n",
    "\n",
    "def many2many_cost(query_des, image_des, threshold=0.06):\n",
    "    simi = torch.zeros(20, 20)\n",
    "    for i in range(20):\n",
    "        for j in range(20):\n",
    "            simi[i, j] = torch.exp(-1*torch.dist(query_des[i], image_des[j], 2))\n",
    "    simiNorm = torch.sqrt(torch.sum(simi * simi))\n",
    "    simi_w = simi / simiNorm\n",
    "    threshold = max(threshold, (simi_w.max() - simi_w.min())/2)\n",
    "    simi_w = simi_w.gt(threshold).float()\n",
    "    \n",
    "    return (simi*simi_w).sum()"
   ]
  },
  {
   "cell_type": "markdown",
   "metadata": {},
   "source": [
    "### Get total similarity of matching"
   ]
  },
  {
   "cell_type": "code",
   "execution_count": 13,
   "metadata": {},
   "outputs": [],
   "source": [
    "def similarity(cost, query_des, image_des):\n",
    "    simi = torch.zeros(34, 136)\n",
    "    for i in range(34):\n",
    "        for j in range(136):\n",
    "            simi[i, j] = cost(query_des[i], image_des[j])\n",
    "    return simi"
   ]
  },
  {
   "cell_type": "code",
   "execution_count": 14,
   "metadata": {},
   "outputs": [],
   "source": [
    "simi_one_one = similarity(one2one_cost, query_des, image_des)"
   ]
  },
  {
   "cell_type": "code",
   "execution_count": 15,
   "metadata": {},
   "outputs": [],
   "source": [
    "simi_many_many = similarity(many2many_cost, query_des, image_des)"
   ]
  },
  {
   "cell_type": "code",
   "execution_count": 16,
   "metadata": {},
   "outputs": [],
   "source": [
    "torch.save(simi_one_one, \"similarity_one.pth\")\n",
    "torch.save(simi_many_many, \"similarity_many.pth\")"
   ]
  },
  {
   "cell_type": "code",
   "execution_count": 17,
   "metadata": {},
   "outputs": [
    {
     "data": {
      "text/plain": [
       "torch.Size([34, 136])"
      ]
     },
     "execution_count": 17,
     "metadata": {},
     "output_type": "execute_result"
    }
   ],
   "source": [
    "simi_one_one.shape"
   ]
  },
  {
   "cell_type": "code",
   "execution_count": 18,
   "metadata": {},
   "outputs": [
    {
     "data": {
      "text/plain": [
       "torch.Size([34, 136])"
      ]
     },
     "execution_count": 18,
     "metadata": {},
     "output_type": "execute_result"
    }
   ],
   "source": [
    "simi_many_many.shape"
   ]
  },
  {
   "cell_type": "code",
   "execution_count": null,
   "metadata": {},
   "outputs": [],
   "source": []
  }
 ],
 "metadata": {
  "kernelspec": {
   "display_name": "Python 3",
   "language": "python",
   "name": "python3"
  },
  "language_info": {
   "codemirror_mode": {
    "name": "ipython",
    "version": 3
   },
   "file_extension": ".py",
   "mimetype": "text/x-python",
   "name": "python",
   "nbconvert_exporter": "python",
   "pygments_lexer": "ipython3",
   "version": "3.7.4"
  }
 },
 "nbformat": 4,
 "nbformat_minor": 4
}
