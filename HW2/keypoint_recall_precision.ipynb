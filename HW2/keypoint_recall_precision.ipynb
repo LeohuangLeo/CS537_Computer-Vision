{
 "cells": [
  {
   "cell_type": "markdown",
   "metadata": {},
   "source": [
    "## Precision and Recall"
   ]
  },
  {
   "cell_type": "markdown",
   "metadata": {},
   "source": [
    "### Import packages"
   ]
  },
  {
   "cell_type": "code",
   "execution_count": 1,
   "metadata": {},
   "outputs": [],
   "source": [
    "import torch\n",
    "import matplotlib\n",
    "import numpy as np\n",
    "import matplotlib.pyplot as plt\n",
    "%matplotlib inline  "
   ]
  },
  {
   "cell_type": "markdown",
   "metadata": {},
   "source": [
    "### Load similarity matrix"
   ]
  },
  {
   "cell_type": "code",
   "execution_count": 2,
   "metadata": {},
   "outputs": [],
   "source": [
    "similarity_one = torch.load(\"similarity_one.pth\")\n",
    "similarity_many = torch.load(\"similarity_many.pth\")"
   ]
  },
  {
   "cell_type": "code",
   "execution_count": 5,
   "metadata": {},
   "outputs": [
    {
     "name": "stdout",
     "output_type": "stream",
     "text": [
      "torch.Size([34, 136])\n",
      "torch.Size([34, 136])\n"
     ]
    }
   ],
   "source": [
    "print(similarity_one.shape)\n",
    "print(similarity_many.shape)"
   ]
  },
  {
   "cell_type": "markdown",
   "metadata": {},
   "source": [
    "### Save two matrices of my image retrieval [one2one, many2many]"
   ]
  },
  {
   "cell_type": "code",
   "execution_count": 8,
   "metadata": {},
   "outputs": [
    {
     "name": "stdout",
     "output_type": "stream",
     "text": [
      "torch.Size([34, 4])\n",
      "torch.Size([34, 4])\n"
     ]
    },
    {
     "data": {
      "text/plain": [
       "tensor([[  0,   1,   2,   3],\n",
       "        [  4,   6,  55,  54],\n",
       "        [  8,  87,  50,  71],\n",
       "        [ 13,  15,  12,  14],\n",
       "        [ 18,  16,  19,  17],\n",
       "        [ 22,  20,  21,  23],\n",
       "        [ 26,  27,  52,  54],\n",
       "        [ 28, 114,  30, 112],\n",
       "        [ 34,  52,  53,   5],\n",
       "        [ 39,  37,  38,  36],\n",
       "        [ 42,  40,  41,  43],\n",
       "        [ 44,  47, 133, 107],\n",
       "        [ 51,  50,  48,  49],\n",
       "        [ 55,  54,  33,  35],\n",
       "        [ 56,  58,  57,  59],\n",
       "        [ 61,  60,  62,  63],\n",
       "        [ 66,  64,  67,  65],\n",
       "        [ 70,  69, 111,  59],\n",
       "        [ 72,  73,  74,  75],\n",
       "        [ 79, 126,  72,  76],\n",
       "        [ 83, 132,  89,  82],\n",
       "        [ 84,  85,  86,  87],\n",
       "        [ 90,  88,  89, 111],\n",
       "        [ 92, 135,  85,  87],\n",
       "        [ 96,  97,  99,  98],\n",
       "        [100, 101, 102, 103],\n",
       "        [104, 106,  19,  50],\n",
       "        [110, 108, 109, 134],\n",
       "        [112, 114, 113,  26],\n",
       "        [116, 117, 119, 118],\n",
       "        [122, 120, 123,  93],\n",
       "        [124, 117,  95,  14],\n",
       "        [128, 129,  62, 131],\n",
       "        [132, 133, 134, 135]])"
      ]
     },
     "execution_count": 8,
     "metadata": {},
     "output_type": "execute_result"
    }
   ],
   "source": [
    "_, topk4_one2one   = torch.topk(similarity_one, 4, dim = 1)\n",
    "_, topk4_many2many = torch.topk(similarity_many, 4, dim = 1)\n",
    "print(topk4_one2one.shape)\n",
    "print(topk4_many2many.shape)\n",
    "torch.save([topk4_many2many, topk4_one2one], \"retrieval.pth\")\n",
    "\n",
    "topk4_one2one"
   ]
  },
  {
   "cell_type": "markdown",
   "metadata": {},
   "source": [
    "### Make two sets of K most similar images"
   ]
  },
  {
   "cell_type": "code",
   "execution_count": 17,
   "metadata": {},
   "outputs": [],
   "source": [
    "topk_one_index = torch.zeros(4, 34, 4)\n",
    "topk_many_index = torch.zeros(4, 34, 4)\n",
    "\n",
    "for k in range(4):\n",
    "    _, topk_one   = torch.topk(similarity_one, k+1, dim = 1)\n",
    "    _, topk_many = torch.topk(similarity_many, k+1, dim = 1)\n",
    "    \n",
    "    topk_one_index[k, :, :k+1] = topk_one + 1\n",
    "    topk_many_index[k, :, :k+1] = topk_many + 1"
   ]
  },
  {
   "cell_type": "code",
   "execution_count": 18,
   "metadata": {},
   "outputs": [],
   "source": [
    "# read ground truth\n",
    "ground_truth = torch.empty(34, 4)\n",
    "with open(\"image_retrieval/ground_truth.txt\", 'r') as f:\n",
    "    adder = 0\n",
    "    for line in f:\n",
    "        if not line.startswith(\"q\"):\n",
    "            continue\n",
    "        one_line = line.strip().split(\"  \")\n",
    "        query_index = int(one_line[0][1:])\n",
    "        image_index = int(one_line[1])\n",
    "        ground_truth[query_index - 1][adder % 4] = image_index\n",
    "        adder += 1"
   ]
  },
  {
   "cell_type": "code",
   "execution_count": 19,
   "metadata": {},
   "outputs": [],
   "source": [
    "P_one2one = torch.zeros(4,1)\n",
    "R_one2one = torch.zeros(4,1)\n",
    "for k in range(4):\n",
    "    P_1, R_1 = 0, 0\n",
    "    for idx in range(34):\n",
    "        for topk_idx in topk_one_index[k][idx][:k+1]:\n",
    "            if int(topk_idx) in ground_truth[idx]:\n",
    "                P_1 += 1/(k+1)/34 # sum_P /Q\n",
    "                R_1 += 1/4/34\n",
    "    P_one2one[k] = P_1\n",
    "    R_one2one[k] = R_1\n",
    "    \n",
    "P_many2many = torch.zeros(4,1)\n",
    "R_many2many = torch.zeros(4,1)\n",
    "for k in range(4):\n",
    "    P_1, R_1 = 0, 0\n",
    "    for idx in range(34):\n",
    "        for topk_idx in topk_many_index[k][idx][:k+1]:\n",
    "            if int(topk_idx) in ground_truth[idx]:\n",
    "                P_1 += 1/(k+1)/34 # sum_P /Q\n",
    "                R_1 += 1/4/34\n",
    "    P_many2many[k] = P_1\n",
    "    R_many2many[k] = R_1"
   ]
  },
  {
   "cell_type": "markdown",
   "metadata": {},
   "source": [
    "### Compute average precision and recall"
   ]
  },
  {
   "cell_type": "code",
   "execution_count": 20,
   "metadata": {},
   "outputs": [
    {
     "data": {
      "text/plain": [
       "torch.Size([4, 34, 4])"
      ]
     },
     "execution_count": 20,
     "metadata": {},
     "output_type": "execute_result"
    }
   ],
   "source": [
    "topk_many_index.shape"
   ]
  },
  {
   "cell_type": "code",
   "execution_count": 21,
   "metadata": {},
   "outputs": [],
   "source": [
    "def precision_recall(topk_index, ground_truth):\n",
    "    precision = torch.zeros(4,1)\n",
    "    recall = torch.zeros(4,1)\n",
    "    for k in range(4):\n",
    "        p, r = 0, 0\n",
    "        for i in range(34):\n",
    "            for j in topk_index[k][i][:k+1]:\n",
    "                if int(j) in ground_truth[i]:\n",
    "                    p += 1/(k+1)/34\n",
    "                    r += 1/4/34\n",
    "        precision[k] = p\n",
    "        recall[k] = r\n",
    "    return precision.numpy(), recall.numpy()"
   ]
  },
  {
   "cell_type": "code",
   "execution_count": 22,
   "metadata": {},
   "outputs": [],
   "source": [
    "precision_one, recall_one = precision_recall(topk_one_index, ground_truth)\n",
    "precision_many, recall_many = precision_recall(topk_many_index, ground_truth)"
   ]
  },
  {
   "cell_type": "code",
   "execution_count": 23,
   "metadata": {},
   "outputs": [
    {
     "name": "stdout",
     "output_type": "stream",
     "text": [
      "[[1.        ]\n",
      " [0.89705884]\n",
      " [0.8039216 ]\n",
      " [0.74264705]]\n",
      "[[0.25      ]\n",
      " [0.44852942]\n",
      " [0.60294116]\n",
      " [0.74264705]]\n",
      "[[0.85294116]\n",
      " [0.75      ]\n",
      " [0.6372549 ]\n",
      " [0.5955882 ]]\n",
      "[[0.21323529]\n",
      " [0.375     ]\n",
      " [0.4779412 ]\n",
      " [0.5955882 ]]\n"
     ]
    }
   ],
   "source": [
    "print(precision_one)\n",
    "print(recall_one)\n",
    "print(precision_many)\n",
    "print(recall_many)"
   ]
  },
  {
   "cell_type": "markdown",
   "metadata": {},
   "source": [
    "### Image visualization: Precision vs Recall"
   ]
  },
  {
   "cell_type": "code",
   "execution_count": 24,
   "metadata": {},
   "outputs": [
    {
     "data": {
      "image/png": "[encoded data removed]",
      "text/plain": [
       "<Figure size 576x576 with 1 Axes>"
      ]
     },
     "metadata": {
      "needs_background": "light"
     },
     "output_type": "display_data"
    }
   ],
   "source": [
    "k = [i for i in range(1, 5)]\n",
    "fig = plt.figure(figsize=(8, 8))\n",
    "plt.suptitle('Precesion vs Recall', fontsize=20)\n",
    "ax1 = fig.add_subplot(111)\n",
    "ax1.set_ylabel('Precision')\n",
    "ax1.set_xlabel('Recall')\n",
    "ax1.grid(True)\n",
    "data1 = ax1.plot(recall_one, precision_one, '-go',label = 'one to one')\n",
    "for i in range(4):\n",
    "    ax1.annotate('  K={}'.format(i + 1), xy = (recall_one[i], precision_one[i]), textcoords = 'data')\n",
    "    ax1.annotate('  K={}'.format(i + 1), xy = (recall_many[i], precision_many[i]), textcoords = 'data')\n",
    "data2 = ax1.plot(recall_many, precision_many, '-ro',label = 'many to many')\n",
    "data3 = data1 + data2\n",
    "data4 = [h.get_label() for h in data3]\n",
    "ax1.legend(data3, data4, loc=0)\n",
    "plt.show()"
   ]
  },
  {
   "cell_type": "code",
   "execution_count": 8,
   "metadata": {},
   "outputs": [
    {
     "data": {
      "image/png": "[encoded data removed]",
      "text/plain": [
       "<Figure size 432x288 with 1 Axes>"
      ]
     },
     "metadata": {
      "needs_background": "light"
     },
     "output_type": "display_data"
    }
   ],
   "source": [
    "import matplotlib.pyplot as plt\n",
    "\n",
    "acc = [0.7883, 0.8213, 0.8668, 0.8915]\n",
    "k = range(1,5)\n",
    "plt.plot(k, acc)\n",
    "plt.xlabel('k')\n",
    "plt.ylabel('accuracy')\n",
    "plt.title('top_k_categorical_accuracy')\n",
    "plt.show()"
   ]
  },
  {
   "cell_type": "code",
   "execution_count": null,
   "metadata": {},
   "outputs": [],
   "source": []
  }
 ],
 "metadata": {
  "kernelspec": {
   "display_name": "Python 3",
   "language": "python",
   "name": "python3"
  },
  "language_info": {
   "codemirror_mode": {
    "name": "ipython",
    "version": 3
   },
   "file_extension": ".py",
   "mimetype": "text/x-python",
   "name": "python",
   "nbconvert_exporter": "python",
   "pygments_lexer": "ipython3",
   "version": "3.7.4"
  }
 },
 "nbformat": 4,
 "nbformat_minor": 4
}
