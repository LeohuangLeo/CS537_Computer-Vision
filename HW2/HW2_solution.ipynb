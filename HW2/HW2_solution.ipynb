{
 "cells": [
  {
   "cell_type": "markdown",
   "metadata": {},
   "source": [
    "## HW2 Solution"
   ]
  },
  {
   "cell_type": "code",
   "execution_count": 2,
   "metadata": {},
   "outputs": [],
   "source": [
    "import os\n",
    "os.environ[\"CUDA_VISIBLE_DEVICES\"] = \"1\""
   ]
  },
  {
   "cell_type": "code",
   "execution_count": 3,
   "metadata": {},
   "outputs": [],
   "source": [
    "# load packages\n",
    "from __future__ import division, print_function\n",
    "import glob\n",
    "import os\n",
    "import cv2\n",
    "import PIL\n",
    "import random\n",
    "import numpy as np\n",
    "# import pandas as pd\n",
    "import matplotlib.pyplot as plt\n",
    "import matplotlib.image as mpimg\n",
    "import torch\n",
    "import torch.nn.init\n",
    "import torch.nn as nn\n",
    "import torch.optim as optim\n",
    "import torch.backends.cudnn as cudnn\n",
    "import torch.nn.functional as F\n",
    "import torchvision.datasets as dset\n",
    "import torchvision.transforms as transforms\n",
    "from tqdm import tqdm\n",
    "from torch.autograd import Variable\n",
    "from copy import deepcopy, copy\n",
    "from scipy.optimize import linear_sum_assignment"
   ]
  },
  {
   "cell_type": "markdown",
   "metadata": {},
   "source": [
    "### Get features.pth\n",
    "***"
   ]
  },
  {
   "cell_type": "code",
   "execution_count": 4,
   "metadata": {},
   "outputs": [],
   "source": [
    "# parameters setting\n",
    "query_path = \"image_retrieval/query/\"\n",
    "image_path = \"image_retrieval/images/\"\n",
    "query_num = 34     # total query image number\n",
    "image_num = 136    # total retrieval image number\n",
    "kps_num = 20       # key points number on one image\n",
    "patch_size = 32    # patch size\n",
    "patches = torch.zeros(query_num+image_num, kps_num,1, 32, 32)\n",
    "keypoints = torch.zeros(query_num+image_num, kps_num, 2)"
   ]
  },
  {
   "cell_type": "code",
   "execution_count": 5,
   "metadata": {},
   "outputs": [],
   "source": [
    "# Initiate SURF detector\n",
    "sift = cv2.xfeatures2d.SIFT_create(600)"
   ]
  },
  {
   "cell_type": "code",
   "execution_count": 6,
   "metadata": {},
   "outputs": [],
   "source": [
    "def getPatches(kps, img, size=32, num=500):\n",
    "    res = torch.zeros(num, 1, size, size)\n",
    "    if type(img) is np.ndarray:\n",
    "        img = torch.from_numpy(img)\n",
    "    h, w = img.shape      # note: for image, the x direction is the verticle, y-direction is the horizontal...\n",
    "    for i in range(num):\n",
    "        cx, cy = kps[i]\n",
    "        cx, cy = int(cx), int(cy)\n",
    "        dd = int(size/2)\n",
    "        xmin, xmax = max(0, cx - dd), min(w, cx + dd ) \n",
    "        ymin, ymax = max(0, cy - dd), min(h, cy + dd ) \n",
    "        \n",
    "        xmin_res, xmax_res = dd - min(dd,cx), dd + min(dd, w - cx)\n",
    "        ymin_res, ymax_res = dd - min(dd,cy), dd + min(dd, h - cy)\n",
    "        res[i, 0, ymin_res: ymax_res, xmin_res: xmax_res] = img[ymin: ymax, xmin: xmax]\n",
    "    return res"
   ]
  },
  {
   "cell_type": "code",
   "execution_count": 7,
   "metadata": {},
   "outputs": [],
   "source": [
    "# tensor for query/image patches\n",
    "for idx in range(query_num+image_num):\n",
    "    if idx < query_num:\n",
    "        img_dir = os.path.join(query_path,\"q{}.JPG\".format(idx+1))\n",
    "    else:\n",
    "        img_dir = os.path.join(image_path,\"{}.JPG\".format(idx+1-query_num))\n",
    "    image = cv2.imread(img_dir)\n",
    "    img= cv2.cvtColor(image,cv2.COLOR_BGR2GRAY)\n",
    "    \n",
    "    ## find the keypoints and descriptors with SIFT\n",
    "    kps, des = sift.detectAndCompute(img, None)\n",
    "    \n",
    "    ## sort by response, and remove duplicate\n",
    "    kps.sort(key=lambda x:x.response, reverse=True)\n",
    "    temp = set()\n",
    "    kps2 = [x for x in kps if x.pt not in temp and not temp.add(x.pt)]\n",
    "        \n",
    "    if len(kps2) < 20:\n",
    "        print(\"Cannot find 20 keypoints on image {}\".format(img_dir))\n",
    "        break\n",
    "    \n",
    "    keypoints_img = [kps2[a].pt for a in range(kps_num)] \n",
    "    keypoints[idx]= torch.Tensor(keypoints_img).int()\n",
    "    patches[idx] = getPatches(keypoints_img, img, size=patch_size, num=kps_num)    "
   ]
  },
  {
   "cell_type": "code",
   "execution_count": 8,
   "metadata": {},
   "outputs": [
    {
     "data": {
      "text/plain": [
       "<All keys matched successfully>"
      ]
     },
     "execution_count": 8,
     "metadata": {},
     "output_type": "execute_result"
    }
   ],
   "source": [
    "# import network, , load pretrained weights, and turn on testing mode\n",
    "from descriptor import DesNet\n",
    "model = DesNet()\n",
    "model.cuda()\n",
    "model.eval()\n",
    "trained_weights = torch.load(\"checkpoint.pth\")\n",
    "model.load_state_dict(trained_weights[\"state_dict\"])"
   ]
  },
  {
   "cell_type": "code",
   "execution_count": 9,
   "metadata": {},
   "outputs": [
    {
     "name": "stdout",
     "output_type": "stream",
     "text": [
      "torch.Size([170, 20, 1, 32, 32])\n"
     ]
    }
   ],
   "source": [
    "print(patches.shape)"
   ]
  },
  {
   "cell_type": "code",
   "execution_count": 10,
   "metadata": {},
   "outputs": [],
   "source": [
    "# get descriptions\n",
    "with torch.no_grad():\n",
    "    features = model(patches.view(-1,1,32, 32).cuda()).view(-1,20,128)\n",
    "torch.save(features, \"features.pth\")"
   ]
  },
  {
   "cell_type": "markdown",
   "metadata": {},
   "source": [
    "### Get similarity matrices\n",
    "***"
   ]
  },
  {
   "cell_type": "code",
   "execution_count": 56,
   "metadata": {},
   "outputs": [],
   "source": [
    "def getCost_one2one(des1, des2, kps_num=20):\n",
    "    des1 = des1.view(kps_num, 1, 128).expand(kps_num, kps_num, 128).contiguous().view(kps_num*kps_num, 128)\n",
    "    des2 = des2.view(1, kps_num, 128).expand(kps_num, kps_num, 128).contiguous().view(kps_num*kps_num, 128)\n",
    "    \n",
    "    simi = (1 + F.cosine_similarity(des1, des2))/2\n",
    "    simi = simi.view(kps_num, kps_num)\n",
    "    cost = 1 - simi\n",
    "    row_ind, col_ind = linear_sum_assignment(cost.cpu().numpy())\n",
    "    \n",
    "    return simi[row_ind, col_ind].sum()\n",
    "\n",
    "def getCost_many2many(des1, des2, kps_num=20, threshold=0.068):\n",
    "    des1 = des1.view(kps_num, 1, 128).expand(kps_num, kps_num, 128).contiguous().view(kps_num*kps_num, 128)\n",
    "    des2 = des2.view(1, kps_num, 128).expand(kps_num, kps_num, 128).contiguous().view(kps_num*kps_num, 128)\n",
    "    \n",
    "    simi = (1 + F.cosine_similarity(des1, des2))/2\n",
    "    simi = simi.view(kps_num, kps_num)\n",
    "    simiNorm = torch.sqrt(torch.sum(simi * simi))\n",
    "    simi_w = simi / simiNorm\n",
    "#     threshold = max(threshold, (simi_w.max() - simi_w.min())*0.01 + simi_w.min())\n",
    "    simi_w = simi_w.gt(threshold).float()\n",
    "    \n",
    "    return (simi*simi_w).sum()"
   ]
  },
  {
   "cell_type": "code",
   "execution_count": 57,
   "metadata": {},
   "outputs": [
    {
     "name": "stdout",
     "output_type": "stream",
     "text": [
      "finished No.1 query\n",
      "finished No.2 query\n",
      "finished No.3 query\n",
      "finished No.4 query\n",
      "finished No.5 query\n",
      "finished No.6 query\n",
      "finished No.7 query\n",
      "finished No.8 query\n",
      "finished No.9 query\n",
      "finished No.10 query\n",
      "finished No.11 query\n",
      "finished No.12 query\n",
      "finished No.13 query\n",
      "finished No.14 query\n",
      "finished No.15 query\n",
      "finished No.16 query\n",
      "finished No.17 query\n",
      "finished No.18 query\n",
      "finished No.19 query\n",
      "finished No.20 query\n",
      "finished No.21 query\n",
      "finished No.22 query\n",
      "finished No.23 query\n",
      "finished No.24 query\n",
      "finished No.25 query\n",
      "finished No.26 query\n",
      "finished No.27 query\n",
      "finished No.28 query\n",
      "finished No.29 query\n",
      "finished No.30 query\n",
      "finished No.31 query\n",
      "finished No.32 query\n",
      "finished No.33 query\n",
      "finished No.34 query\n"
     ]
    }
   ],
   "source": [
    "# You can speed upt if you use tensor manipulations instead of two loops\n",
    "similarity_one2one = torch.zeros(query_num, image_num)\n",
    "similarity_many2many = torch.zeros(query_num, image_num)\n",
    "for idx in range(query_num):\n",
    "    print(\"finished No.{} query\".format(idx+1))\n",
    "    for jdx in range(image_num):\n",
    "        similarity_one2one[idx,jdx] = getCost_one2one(features[idx], features[jdx+query_num])\n",
    "        similarity_many2many[idx, jdx] = getCost_many2many(features[idx], features[jdx+query_num])"
   ]
  },
  {
   "cell_type": "code",
   "execution_count": 58,
   "metadata": {},
   "outputs": [],
   "source": [
    "# save similarity matrices\n",
    "similarity_one2one_dir = \"similarity_one2one.pt\"\n",
    "similarity_many2many_dir = \"similarity_many2many.pt\"\n",
    "torch.save(similarity_one2one, similarity_one2one_dir)\n",
    "torch.save(similarity_many2many, similarity_many2many_dir)"
   ]
  },
  {
   "cell_type": "markdown",
   "metadata": {},
   "source": [
    "### Get retrieval.pth\n",
    "***"
   ]
  },
  {
   "cell_type": "code",
   "execution_count": 59,
   "metadata": {},
   "outputs": [],
   "source": [
    "topk_one2one_ind   = torch.zeros(4, 34, 4)  # k, 34, k\n",
    "topk_many2many_ind = torch.zeros(4, 34, 4)  # k, 34, k\n",
    "\n",
    "for k in range(4):\n",
    "    _, topk_one2one   = torch.topk(similarity_one2one, k+1, dim = 1,sorted=True)\n",
    "    _, topk_many2many = torch.topk(similarity_many2many, k+1, dim = 1,sorted=True)\n",
    "    \n",
    "    topk_one2one_ind[k, :, :k+1] = topk_one2one + 1\n",
    "    topk_many2many_ind[k, :, :k+1] = topk_many2many + 1"
   ]
  },
  {
   "cell_type": "code",
   "execution_count": 60,
   "metadata": {},
   "outputs": [],
   "source": [
    "# read gt\n",
    "gt_dir = \"image_retrieval/ground_truth.txt\"\n",
    "gt = torch.empty(34, 4)\n",
    "with open(gt_dir, 'r') as f:\n",
    "    point = 0\n",
    "    for line in f:\n",
    "        if not line.startswith(\"q\"):\n",
    "            continue\n",
    "        one_line = line.strip().split(\"  \")\n",
    "        query_idx = int(one_line[0][1:])\n",
    "        image_idx = int(one_line[1])\n",
    "        gt[query_idx-1][point%4] = image_idx\n",
    "        point+=1"
   ]
  },
  {
   "cell_type": "code",
   "execution_count": 61,
   "metadata": {},
   "outputs": [],
   "source": [
    "torch.save([topk_many2many_ind[3], topk_one2one_ind[3]], \"retrieval.pth\")"
   ]
  },
  {
   "cell_type": "markdown",
   "metadata": {},
   "source": [
    "### Draw plots\n",
    "***"
   ]
  },
  {
   "cell_type": "code",
   "execution_count": 62,
   "metadata": {},
   "outputs": [],
   "source": [
    "# read gt\n",
    "gt_dir = \"image_retrieval/ground_truth.txt\"\n",
    "gt = torch.empty(34, 4)\n",
    "with open(gt_dir, 'r') as f:\n",
    "    point = 0\n",
    "    for line in f:\n",
    "        if not line.startswith(\"q\"):\n",
    "            continue\n",
    "        one_line = line.strip().split(\"  \")\n",
    "        query_idx = int(one_line[0][1:])\n",
    "        image_idx = int(one_line[1])\n",
    "        gt[query_idx-1][point%4] = image_idx\n",
    "        point+=1"
   ]
  },
  {
   "cell_type": "code",
   "execution_count": 63,
   "metadata": {},
   "outputs": [
    {
     "name": "stdout",
     "output_type": "stream",
     "text": [
      "tensor([1.0000, 0.8971, 0.8039, 0.7353])\n",
      "tensor([0.2500, 0.4485, 0.6029, 0.7353])\n",
      "tensor([0.9118, 0.7794, 0.6667, 0.5294])\n",
      "tensor([0.2279, 0.3897, 0.5000, 0.5294])\n"
     ]
    }
   ],
   "source": [
    "# precision and recall\n",
    "P_one2one = torch.zeros(4,1)\n",
    "R_one2one = torch.zeros(4,1)\n",
    "for k in range(4):\n",
    "    P_1, R_1 = 0, 0\n",
    "    for idx in range(34):\n",
    "        for topk_idx in topk_one2one_ind[k][idx][:k+1]:\n",
    "            if int(topk_idx) in gt[idx]:\n",
    "                P_1 += 1/(k+1)/34 # sum_P /Q\n",
    "                R_1 += 1/4/34\n",
    "    P_one2one[k] = P_1\n",
    "    R_one2one[k] = R_1\n",
    "    \n",
    "P_many2many = torch.zeros(4,1)\n",
    "R_many2many = torch.zeros(4,1)\n",
    "for k in range(4):\n",
    "    P_1, R_1 = 0, 0\n",
    "    for idx in range(34):\n",
    "        for topk_idx in topk_many2many_ind[k][idx][:k+1]:\n",
    "            if int(topk_idx) in gt[idx]:\n",
    "                P_1 += 1/(k+1)/34 # sum_P /Q\n",
    "                R_1 += 1/4/34\n",
    "    P_many2many[k] = P_1\n",
    "    R_many2many[k] = R_1\n",
    "    \n",
    "print(P_one2one[:,0])\n",
    "print(R_one2one[:,0])\n",
    "print(P_many2many[:,0])\n",
    "print(R_many2many[:,0])"
   ]
  },
  {
   "cell_type": "code",
   "execution_count": 64,
   "metadata": {},
   "outputs": [
    {
     "data": {
      "text/plain": [
       "<matplotlib.legend.Legend at 0x7f2aa0180080>"
      ]
     },
     "execution_count": 64,
     "metadata": {},
     "output_type": "execute_result"
    },
    {
     "data": {
      "image/png": "[encoded data removed]",
      "text/plain": [
       "<Figure size 576x576 with 1 Axes>"
      ]
     },
     "metadata": {
      "needs_background": "light"
     },
     "output_type": "display_data"
    }
   ],
   "source": [
    "k = [i for i in range(1, 5)]\n",
    "fig = plt.figure(figsize=(8, 8))\n",
    "plt.suptitle('Precesion vs Recall', fontsize=20)\n",
    "ax1 = fig.add_subplot(111)\n",
    "ax1.set_xlim(0.1,0.8)\n",
    "ax1.set_ylim(0.1,1.1)\n",
    "ax1.set_ylabel('Precision')\n",
    "ax1.set_xlabel('Recall')\n",
    "ax1.grid(True)\n",
    "lns1 = ax1.plot(R_one2one[:,0].numpy(), P_one2one[:,0].numpy(), \"-go\",label=\"one2one\")\n",
    "for i in range(4):\n",
    "    ax1.annotate('K={}'.format(i+1), xy=(R_one2one[i,0].numpy(), P_one2one[i,0].numpy()), textcoords='data')\n",
    "    ax1.annotate('K={}'.format(i+1), xy=(R_many2many[i,0].numpy(), P_many2many[i,0].numpy()), textcoords='data')\n",
    "lns2 = ax1.plot(R_many2many[:,0].numpy(), P_many2many[:,0].numpy(), \"-ro\",label=\"many2many\")\n",
    "lnss = lns1+lns2\n",
    "labss = [h.get_label() for h in lnss]\n",
    "ax1.legend(lnss, labss, loc=0)"
   ]
  },
  {
   "cell_type": "code",
   "execution_count": null,
   "metadata": {},
   "outputs": [],
   "source": []
  }
 ],
 "metadata": {
  "kernelspec": {
   "display_name": "Python 3",
   "language": "python",
   "name": "python3"
  },
  "language_info": {
   "codemirror_mode": {
    "name": "ipython",
    "version": 3
   },
   "file_extension": ".py",
   "mimetype": "text/x-python",
   "name": "python",
   "nbconvert_exporter": "python",
   "pygments_lexer": "ipython3",
   "version": "3.7.4"
  }
 },
 "nbformat": 4,
 "nbformat_minor": 4
}
