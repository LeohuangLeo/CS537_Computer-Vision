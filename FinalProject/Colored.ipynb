{
 "cells": [
  {
   "cell_type": "code",
   "execution_count": 3,
   "metadata": {},
   "outputs": [
    {
     "name": "stderr",
     "output_type": "stream",
     "text": [
      "Using TensorFlow backend.\n",
      "/scratch/huangtin_cs537/miniconda3/envs/myenv/lib/python3.6/site-packages/tensorflow/python/framework/dtypes.py:516: FutureWarning: Passing (type, 1) or '1type' as a synonym of type is deprecated; in a future version of numpy, it will be understood as (type, (1,)) / '(1,)type'.\n",
      "  _np_qint8 = np.dtype([(\"qint8\", np.int8, 1)])\n",
      "/scratch/huangtin_cs537/miniconda3/envs/myenv/lib/python3.6/site-packages/tensorflow/python/framework/dtypes.py:517: FutureWarning: Passing (type, 1) or '1type' as a synonym of type is deprecated; in a future version of numpy, it will be understood as (type, (1,)) / '(1,)type'.\n",
      "  _np_quint8 = np.dtype([(\"quint8\", np.uint8, 1)])\n",
      "/scratch/huangtin_cs537/miniconda3/envs/myenv/lib/python3.6/site-packages/tensorflow/python/framework/dtypes.py:518: FutureWarning: Passing (type, 1) or '1type' as a synonym of type is deprecated; in a future version of numpy, it will be understood as (type, (1,)) / '(1,)type'.\n",
      "  _np_qint16 = np.dtype([(\"qint16\", np.int16, 1)])\n",
      "/scratch/huangtin_cs537/miniconda3/envs/myenv/lib/python3.6/site-packages/tensorflow/python/framework/dtypes.py:519: FutureWarning: Passing (type, 1) or '1type' as a synonym of type is deprecated; in a future version of numpy, it will be understood as (type, (1,)) / '(1,)type'.\n",
      "  _np_quint16 = np.dtype([(\"quint16\", np.uint16, 1)])\n",
      "/scratch/huangtin_cs537/miniconda3/envs/myenv/lib/python3.6/site-packages/tensorflow/python/framework/dtypes.py:520: FutureWarning: Passing (type, 1) or '1type' as a synonym of type is deprecated; in a future version of numpy, it will be understood as (type, (1,)) / '(1,)type'.\n",
      "  _np_qint32 = np.dtype([(\"qint32\", np.int32, 1)])\n",
      "/scratch/huangtin_cs537/miniconda3/envs/myenv/lib/python3.6/site-packages/tensorflow/python/framework/dtypes.py:525: FutureWarning: Passing (type, 1) or '1type' as a synonym of type is deprecated; in a future version of numpy, it will be understood as (type, (1,)) / '(1,)type'.\n",
      "  np_resource = np.dtype([(\"resource\", np.ubyte, 1)])\n",
      "/scratch/huangtin_cs537/miniconda3/envs/myenv/lib/python3.6/site-packages/tensorboard/compat/tensorflow_stub/dtypes.py:541: FutureWarning: Passing (type, 1) or '1type' as a synonym of type is deprecated; in a future version of numpy, it will be understood as (type, (1,)) / '(1,)type'.\n",
      "  _np_qint8 = np.dtype([(\"qint8\", np.int8, 1)])\n",
      "/scratch/huangtin_cs537/miniconda3/envs/myenv/lib/python3.6/site-packages/tensorboard/compat/tensorflow_stub/dtypes.py:542: FutureWarning: Passing (type, 1) or '1type' as a synonym of type is deprecated; in a future version of numpy, it will be understood as (type, (1,)) / '(1,)type'.\n",
      "  _np_quint8 = np.dtype([(\"quint8\", np.uint8, 1)])\n",
      "/scratch/huangtin_cs537/miniconda3/envs/myenv/lib/python3.6/site-packages/tensorboard/compat/tensorflow_stub/dtypes.py:543: FutureWarning: Passing (type, 1) or '1type' as a synonym of type is deprecated; in a future version of numpy, it will be understood as (type, (1,)) / '(1,)type'.\n",
      "  _np_qint16 = np.dtype([(\"qint16\", np.int16, 1)])\n",
      "/scratch/huangtin_cs537/miniconda3/envs/myenv/lib/python3.6/site-packages/tensorboard/compat/tensorflow_stub/dtypes.py:544: FutureWarning: Passing (type, 1) or '1type' as a synonym of type is deprecated; in a future version of numpy, it will be understood as (type, (1,)) / '(1,)type'.\n",
      "  _np_quint16 = np.dtype([(\"quint16\", np.uint16, 1)])\n",
      "/scratch/huangtin_cs537/miniconda3/envs/myenv/lib/python3.6/site-packages/tensorboard/compat/tensorflow_stub/dtypes.py:545: FutureWarning: Passing (type, 1) or '1type' as a synonym of type is deprecated; in a future version of numpy, it will be understood as (type, (1,)) / '(1,)type'.\n",
      "  _np_qint32 = np.dtype([(\"qint32\", np.int32, 1)])\n",
      "/scratch/huangtin_cs537/miniconda3/envs/myenv/lib/python3.6/site-packages/tensorboard/compat/tensorflow_stub/dtypes.py:550: FutureWarning: Passing (type, 1) or '1type' as a synonym of type is deprecated; in a future version of numpy, it will be understood as (type, (1,)) / '(1,)type'.\n",
      "  np_resource = np.dtype([(\"resource\", np.ubyte, 1)])\n"
     ]
    }
   ],
   "source": [
    "import os\n",
    "import sys\n",
    "import cv2\n",
    "\n",
    "import random\n",
    "\n",
    "import numpy as np\n",
    "\n",
    "from tqdm import tqdm\n",
    "import pickle\n",
    "\n",
    "from keras.models import Sequential \n",
    "from keras.layers import Conv2D, MaxPooling2D \n",
    "from keras.layers import Activation, Dropout, Flatten, Dense\n",
    "\n",
    "from keras.callbacks import TensorBoard, EarlyStopping, ModelCheckpoint\n",
    "\n",
    "import matplotlib.pyplot as plt\n",
    "\n",
    "%matplotlib inline"
   ]
  },
  {
   "cell_type": "code",
   "execution_count": 4,
   "metadata": {},
   "outputs": [
    {
     "name": "stdout",
     "output_type": "stream",
     "text": [
      "9000\n",
      "3000\n"
     ]
    }
   ],
   "source": [
    "train_images = os.listdir('../data/train')\n",
    "test_images = os.listdir('../data/test')\n",
    "\n",
    "print(len(train_images))\n",
    "print(len(test_images))"
   ]
  },
  {
   "cell_type": "code",
   "execution_count": 5,
   "metadata": {},
   "outputs": [
    {
     "data": {
      "text/plain": [
       "'cat.2718.jpg'"
      ]
     },
     "execution_count": 5,
     "metadata": {},
     "output_type": "execute_result"
    }
   ],
   "source": [
    "train_images[0]"
   ]
  },
  {
   "cell_type": "code",
   "execution_count": 6,
   "metadata": {
    "scrolled": true
   },
   "outputs": [
    {
     "name": "stderr",
     "output_type": "stream",
     "text": [
      "100%|██████████| 3000/3000 [00:07<00:00, 413.31it/s]\n"
     ]
    }
   ],
   "source": [
    "test_images_data = []\n",
    "\n",
    "for image in tqdm(test_images):\n",
    "    image_data = cv2.imread('../data/test/' + image)\n",
    "\n",
    "    #convert color from BGR to RGB\n",
    "    image_data = cv2.cvtColor(image_data, cv2.COLOR_BGR2RGB)    \n",
    "    image_data = cv2.resize(image_data, (64, 64))\n",
    "    \n",
    "    test_images_data.append(image_data)"
   ]
  },
  {
   "cell_type": "code",
   "execution_count": 11,
   "metadata": {},
   "outputs": [
    {
     "data": {
      "text/plain": [
       "(3000, 64, 64, 3)"
      ]
     },
     "execution_count": 11,
     "metadata": {},
     "output_type": "execute_result"
    }
   ],
   "source": [
    "test_images_data = np.array(test_images_data)\n",
    "test_images_data.shape"
   ]
  },
  {
   "cell_type": "code",
   "execution_count": 12,
   "metadata": {},
   "outputs": [
    {
     "name": "stderr",
     "output_type": "stream",
     "text": [
      "100%|██████████| 9000/9000 [00:21<00:00, 413.37it/s]\n"
     ]
    }
   ],
   "source": [
    "train_images_data = []\n",
    "train_images_labels = []\n",
    "\n",
    "random.shuffle(train_images)\n",
    "\n",
    "for image in tqdm(train_images):\n",
    "    image_data = cv2.imread('../data/train/' + image)\n",
    "    \n",
    "    #convert color from BGR to RGB\n",
    "    image_data = cv2.cvtColor(image_data, cv2.COLOR_BGR2RGB)\n",
    "    \n",
    "    image_data = cv2.resize(image_data, (64, 64))\n",
    "\n",
    "    train_images_data.append(image_data)\n",
    "    train_images_data.append(image_data[:, ::-1]) #flipped image\n",
    "    \n",
    "    if image.startswith('cat'):\n",
    "#         train_images_labels.append(0)\n",
    "#         train_images_labels.append(0)\n",
    "        train_images_labels.append([0, 1, 0])\n",
    "        train_images_labels.append([0, 1, 0])\n",
    "    elif image.startswith('dog'):\n",
    "#         train_images_labels.append(1)\n",
    "#         train_images_labels.append(1)\n",
    "        train_images_labels.append([1, 0, 0])\n",
    "        train_images_labels.append([1, 0, 0])\n",
    "    else:\n",
    "#         train_images_labels.append(2)\n",
    "#         train_images_labels.append(2)  \n",
    "        train_images_labels.append([0, 0, 1])\n",
    "        train_images_labels.append([0, 0, 1])"
   ]
  },
  {
   "cell_type": "code",
   "execution_count": 13,
   "metadata": {},
   "outputs": [
    {
     "data": {
      "text/plain": [
       "(18000, 3)"
      ]
     },
     "execution_count": 13,
     "metadata": {},
     "output_type": "execute_result"
    }
   ],
   "source": [
    "train_images_data = np.array(train_images_data)\n",
    "train_images_labels = np.array(train_images_labels)\n",
    "\n",
    "train_images_data = train_images_data.reshape([-1, 64, 64, 3])\n",
    "train_images_labels.shape"
   ]
  },
  {
   "cell_type": "code",
   "execution_count": null,
   "metadata": {},
   "outputs": [],
   "source": [
    "pickle.dump(train_images_data, open('colored_train_images_data_.pck', 'wb'))"
   ]
  },
  {
   "cell_type": "code",
   "execution_count": null,
   "metadata": {},
   "outputs": [],
   "source": [
    "pickle.dump(test_images_data, open('model_data/colored_test_images_data.pck', 'wb'))"
   ]
  },
  {
   "cell_type": "code",
   "execution_count": null,
   "metadata": {},
   "outputs": [],
   "source": [
    "pickle.dump(train_images_labels, open('model_data/colored_train_images_labels.pck', 'wb'))"
   ]
  },
  {
   "cell_type": "code",
   "execution_count": 2,
   "metadata": {},
   "outputs": [],
   "source": [
    "file = open('model_data/colored_test_images_data.pck','rb')\n",
    "test_images_data = pickle.load(file)"
   ]
  },
  {
   "cell_type": "code",
   "execution_count": 3,
   "metadata": {},
   "outputs": [],
   "source": [
    "file = open('model_data/colored_train_images_data.pck','rb')\n",
    "train_images_data = pickle.load(file)"
   ]
  },
  {
   "cell_type": "code",
   "execution_count": 4,
   "metadata": {},
   "outputs": [],
   "source": [
    "file = open('model_data/colored_train_images_labels.pck','rb')\n",
    "train_images_labels = pickle.load(file)"
   ]
  },
  {
   "cell_type": "code",
   "execution_count": 15,
   "metadata": {},
   "outputs": [],
   "source": [
    "model_name = 'colored_baseline_adam_dt9000' #"
   ]
  },
  {
   "cell_type": "code",
   "execution_count": 16,
   "metadata": {
    "scrolled": true
   },
   "outputs": [
    {
     "name": "stdout",
     "output_type": "stream",
     "text": [
      "Train on 14400 samples, validate on 3600 samples\n",
      "WARNING:tensorflow:From /scratch/huangtin_cs537/miniconda3/envs/myenv/lib/python3.6/site-packages/keras/callbacks.py:850: The name tf.summary.merge_all is deprecated. Please use tf.compat.v1.summary.merge_all instead.\n",
      "\n",
      "WARNING:tensorflow:From /scratch/huangtin_cs537/miniconda3/envs/myenv/lib/python3.6/site-packages/keras/callbacks.py:853: The name tf.summary.FileWriter is deprecated. Please use tf.compat.v1.summary.FileWriter instead.\n",
      "\n",
      "Epoch 1/100\n",
      "14400/14400 [==============================] - 27s 2ms/step - loss: 1.1888 - acc: 0.5666 - val_loss: 0.6636 - val_acc: 0.6309\n",
      "Epoch 2/100\n"
     ]
    },
    {
     "name": "stderr",
     "output_type": "stream",
     "text": [
      "/scratch/huangtin_cs537/miniconda3/envs/myenv/lib/python3.6/site-packages/keras/callbacks.py:434: RuntimeWarning: Can save best model only with val_accuracy available, skipping.\n",
      "  'skipping.' % (self.monitor), RuntimeWarning)\n"
     ]
    },
    {
     "name": "stdout",
     "output_type": "stream",
     "text": [
      "14400/14400 [==============================] - 26s 2ms/step - loss: 0.6638 - acc: 0.6282 - val_loss: 0.6469 - val_acc: 0.6570\n",
      "Epoch 3/100\n",
      "14400/14400 [==============================] - 26s 2ms/step - loss: 0.6434 - acc: 0.6460 - val_loss: 0.6522 - val_acc: 0.6344\n",
      "Epoch 4/100\n",
      "14400/14400 [==============================] - 27s 2ms/step - loss: 0.6254 - acc: 0.6576 - val_loss: 0.6109 - val_acc: 0.6731\n",
      "Epoch 5/100\n",
      "14400/14400 [==============================] - 27s 2ms/step - loss: 0.6095 - acc: 0.6659 - val_loss: 0.6136 - val_acc: 0.6563\n",
      "Epoch 6/100\n",
      "14400/14400 [==============================] - 27s 2ms/step - loss: 0.5907 - acc: 0.6809 - val_loss: 0.5790 - val_acc: 0.6952\n",
      "Epoch 7/100\n",
      "14400/14400 [==============================] - 28s 2ms/step - loss: 0.5634 - acc: 0.6980 - val_loss: 0.5456 - val_acc: 0.7098\n",
      "Epoch 8/100\n",
      "14400/14400 [==============================] - 32s 2ms/step - loss: 0.5292 - acc: 0.7135 - val_loss: 0.5076 - val_acc: 0.7452\n",
      "Epoch 9/100\n",
      "14400/14400 [==============================] - 29s 2ms/step - loss: 0.4713 - acc: 0.7617 - val_loss: 0.4341 - val_acc: 0.8057\n",
      "Epoch 10/100\n",
      "14400/14400 [==============================] - 27s 2ms/step - loss: 0.4065 - acc: 0.7908 - val_loss: 0.3943 - val_acc: 0.7956\n",
      "Epoch 11/100\n",
      "14400/14400 [==============================] - 28s 2ms/step - loss: 0.3753 - acc: 0.7803 - val_loss: 0.3586 - val_acc: 0.7978\n",
      "Epoch 12/100\n",
      "14400/14400 [==============================] - 28s 2ms/step - loss: 0.3639 - acc: 0.7763 - val_loss: 0.3822 - val_acc: 0.7912\n",
      "Epoch 13/100\n",
      "14400/14400 [==============================] - 28s 2ms/step - loss: 0.3507 - acc: 0.7781 - val_loss: 0.3736 - val_acc: 0.7959\n",
      "Epoch 14/100\n",
      "14400/14400 [==============================] - 28s 2ms/step - loss: 0.3459 - acc: 0.7840 - val_loss: 0.3651 - val_acc: 0.7925\n",
      "Epoch 15/100\n",
      "14400/14400 [==============================] - 28s 2ms/step - loss: 0.3390 - acc: 0.7818 - val_loss: 0.3619 - val_acc: 0.7958\n",
      "Epoch 16/100\n",
      "14400/14400 [==============================] - 28s 2ms/step - loss: 0.3332 - acc: 0.7862 - val_loss: 0.3431 - val_acc: 0.8010\n",
      "Epoch 17/100\n",
      "14400/14400 [==============================] - 28s 2ms/step - loss: 0.3246 - acc: 0.7909 - val_loss: 0.3312 - val_acc: 0.8005\n",
      "Epoch 18/100\n",
      "14400/14400 [==============================] - 28s 2ms/step - loss: 0.3255 - acc: 0.7906 - val_loss: 0.3386 - val_acc: 0.8029\n",
      "Epoch 19/100\n",
      "14400/14400 [==============================] - 28s 2ms/step - loss: 0.3221 - acc: 0.7935 - val_loss: 0.3326 - val_acc: 0.7996\n",
      "Epoch 20/100\n",
      "14400/14400 [==============================] - 35s 2ms/step - loss: 0.3220 - acc: 0.7993 - val_loss: 0.3274 - val_acc: 0.8028\n",
      "Epoch 21/100\n",
      "14400/14400 [==============================] - 48s 3ms/step - loss: 0.3287 - acc: 0.7927 - val_loss: 0.3319 - val_acc: 0.7931\n",
      "Epoch 22/100\n",
      "14400/14400 [==============================] - 47s 3ms/step - loss: 0.3160 - acc: 0.7975 - val_loss: 0.3257 - val_acc: 0.7993\n",
      "Epoch 23/100\n",
      "14400/14400 [==============================] - 45s 3ms/step - loss: 0.3180 - acc: 0.7954 - val_loss: 0.3187 - val_acc: 0.7934\n",
      "Epoch 24/100\n",
      "14400/14400 [==============================] - 45s 3ms/step - loss: 0.3100 - acc: 0.8011 - val_loss: 0.3147 - val_acc: 0.8077\n",
      "Epoch 25/100\n",
      "14400/14400 [==============================] - 45s 3ms/step - loss: 0.3065 - acc: 0.8022 - val_loss: 0.3404 - val_acc: 0.8096\n",
      "Epoch 26/100\n",
      "14400/14400 [==============================] - 45s 3ms/step - loss: 0.3143 - acc: 0.8003 - val_loss: 0.3148 - val_acc: 0.8031\n",
      "Epoch 27/100\n",
      "14400/14400 [==============================] - 45s 3ms/step - loss: 0.3113 - acc: 0.7991 - val_loss: 0.3815 - val_acc: 0.7898\n",
      "Epoch 28/100\n",
      "14400/14400 [==============================] - 45s 3ms/step - loss: 0.3085 - acc: 0.8028 - val_loss: 0.3280 - val_acc: 0.8041\n",
      "Epoch 29/100\n",
      "14400/14400 [==============================] - 44s 3ms/step - loss: 0.3043 - acc: 0.8042 - val_loss: 0.3168 - val_acc: 0.8039\n",
      "Epoch 30/100\n",
      "14400/14400 [==============================] - 44s 3ms/step - loss: 0.3030 - acc: 0.8019 - val_loss: 0.3170 - val_acc: 0.8064\n",
      "Epoch 31/100\n",
      "14400/14400 [==============================] - 46s 3ms/step - loss: 0.3023 - acc: 0.8047 - val_loss: 0.3316 - val_acc: 0.8044\n",
      "Epoch 32/100\n",
      "14400/14400 [==============================] - 45s 3ms/step - loss: 0.2944 - acc: 0.8088 - val_loss: 0.3256 - val_acc: 0.7940\n",
      "Epoch 33/100\n",
      "14400/14400 [==============================] - 44s 3ms/step - loss: 0.2939 - acc: 0.8070 - val_loss: 0.3131 - val_acc: 0.8056\n",
      "Epoch 34/100\n",
      "14400/14400 [==============================] - 43s 3ms/step - loss: 0.3005 - acc: 0.8034 - val_loss: 0.3137 - val_acc: 0.8054\n",
      "Epoch 35/100\n",
      "14400/14400 [==============================] - 50s 3ms/step - loss: 0.2964 - acc: 0.8047 - val_loss: 0.3142 - val_acc: 0.8165\n",
      "Epoch 36/100\n",
      "14400/14400 [==============================] - 47s 3ms/step - loss: 0.2960 - acc: 0.8089 - val_loss: 0.3210 - val_acc: 0.8108\n",
      "Epoch 37/100\n",
      "14400/14400 [==============================] - 45s 3ms/step - loss: 0.2887 - acc: 0.8112 - val_loss: 0.3428 - val_acc: 0.7952\n",
      "Epoch 38/100\n",
      "14400/14400 [==============================] - 45s 3ms/step - loss: 0.2999 - acc: 0.8035 - val_loss: 0.3082 - val_acc: 0.7939\n",
      "Epoch 39/100\n",
      "14400/14400 [==============================] - 45s 3ms/step - loss: 0.2887 - acc: 0.8073 - val_loss: 0.3122 - val_acc: 0.8152\n",
      "Epoch 40/100\n",
      "14400/14400 [==============================] - 45s 3ms/step - loss: 0.2846 - acc: 0.8122 - val_loss: 0.3013 - val_acc: 0.8212\n",
      "Epoch 41/100\n",
      "14400/14400 [==============================] - 51s 4ms/step - loss: 0.2964 - acc: 0.8053 - val_loss: 0.3420 - val_acc: 0.8072\n",
      "Epoch 42/100\n",
      "14400/14400 [==============================] - 74s 5ms/step - loss: 0.2866 - acc: 0.8114 - val_loss: 0.3093 - val_acc: 0.8155\n",
      "Epoch 43/100\n",
      "14400/14400 [==============================] - 63s 4ms/step - loss: 0.2827 - acc: 0.8146 - val_loss: 0.3057 - val_acc: 0.8185\n",
      "Epoch 44/100\n",
      "14400/14400 [==============================] - 46s 3ms/step - loss: 0.2797 - acc: 0.8167 - val_loss: 0.3263 - val_acc: 0.8054\n",
      "Epoch 45/100\n",
      "14400/14400 [==============================] - 50s 3ms/step - loss: 0.2849 - acc: 0.8122 - val_loss: 0.3197 - val_acc: 0.7997\n",
      "Epoch 46/100\n",
      "14400/14400 [==============================] - 47s 3ms/step - loss: 0.2797 - acc: 0.8136 - val_loss: 0.3095 - val_acc: 0.8080\n",
      "Epoch 47/100\n",
      "14400/14400 [==============================] - 45s 3ms/step - loss: 0.2734 - acc: 0.8158 - val_loss: 0.3004 - val_acc: 0.8193\n",
      "Epoch 48/100\n",
      "14400/14400 [==============================] - 46s 3ms/step - loss: 0.2697 - acc: 0.8215 - val_loss: 0.3040 - val_acc: 0.8174\n",
      "Epoch 49/100\n",
      "14400/14400 [==============================] - 46s 3ms/step - loss: 0.2909 - acc: 0.8089 - val_loss: 0.3162 - val_acc: 0.8095\n",
      "Epoch 50/100\n",
      "14400/14400 [==============================] - 46s 3ms/step - loss: 0.2860 - acc: 0.8112 - val_loss: 0.3212 - val_acc: 0.8155\n",
      "Epoch 51/100\n",
      "14400/14400 [==============================] - 45s 3ms/step - loss: 0.2700 - acc: 0.8226 - val_loss: 0.3081 - val_acc: 0.8015\n",
      "Epoch 52/100\n",
      "14400/14400 [==============================] - 46s 3ms/step - loss: 0.2795 - acc: 0.8130 - val_loss: 0.3041 - val_acc: 0.8110\n",
      "Epoch 53/100\n",
      "14400/14400 [==============================] - 45s 3ms/step - loss: 0.2613 - acc: 0.8266 - val_loss: 0.3087 - val_acc: 0.8087\n",
      "Epoch 54/100\n",
      "14400/14400 [==============================] - 45s 3ms/step - loss: 0.2594 - acc: 0.8253 - val_loss: 0.2980 - val_acc: 0.8082\n",
      "Epoch 55/100\n",
      "14400/14400 [==============================] - 48s 3ms/step - loss: 0.2643 - acc: 0.8204 - val_loss: 0.3153 - val_acc: 0.8062\n",
      "Epoch 56/100\n",
      "14400/14400 [==============================] - 51s 4ms/step - loss: 0.2663 - acc: 0.8180 - val_loss: 0.3181 - val_acc: 0.8130\n",
      "Epoch 57/100\n",
      "14400/14400 [==============================] - 46s 3ms/step - loss: 0.2727 - acc: 0.8188 - val_loss: 0.3119 - val_acc: 0.8203\n",
      "Epoch 58/100\n",
      "14400/14400 [==============================] - 46s 3ms/step - loss: 0.2604 - acc: 0.8276 - val_loss: 0.2977 - val_acc: 0.8247\n",
      "Epoch 59/100\n",
      "14400/14400 [==============================] - 45s 3ms/step - loss: 0.2560 - acc: 0.8230 - val_loss: 0.2982 - val_acc: 0.8149\n",
      "Epoch 60/100\n",
      "14400/14400 [==============================] - 45s 3ms/step - loss: 0.2580 - acc: 0.8213 - val_loss: 0.3070 - val_acc: 0.8007\n",
      "Epoch 61/100\n",
      "14400/14400 [==============================] - 44s 3ms/step - loss: 0.2600 - acc: 0.8256 - val_loss: 0.3138 - val_acc: 0.8055\n",
      "Epoch 62/100\n",
      "14400/14400 [==============================] - 45s 3ms/step - loss: 0.2505 - acc: 0.8257 - val_loss: 0.3158 - val_acc: 0.8038\n",
      "Epoch 63/100\n",
      "14400/14400 [==============================] - 45s 3ms/step - loss: 0.2513 - acc: 0.8297 - val_loss: 0.3276 - val_acc: 0.8242\n",
      "Epoch 64/100\n",
      "14400/14400 [==============================] - 45s 3ms/step - loss: 0.2566 - acc: 0.8262 - val_loss: 0.3665 - val_acc: 0.8123\n",
      "Epoch 65/100\n",
      "14400/14400 [==============================] - 45s 3ms/step - loss: 0.2823 - acc: 0.8148 - val_loss: 0.2998 - val_acc: 0.8123\n",
      "Epoch 66/100\n",
      "14400/14400 [==============================] - 49s 3ms/step - loss: 0.2417 - acc: 0.8357 - val_loss: 0.3136 - val_acc: 0.8190\n",
      "Epoch 67/100\n",
      "14400/14400 [==============================] - 49s 3ms/step - loss: 0.2393 - acc: 0.8357 - val_loss: 0.2999 - val_acc: 0.8218\n",
      "Epoch 68/100\n",
      "14400/14400 [==============================] - 45s 3ms/step - loss: 0.2399 - acc: 0.8313 - val_loss: 0.3090 - val_acc: 0.8128\n",
      "Epoch 69/100\n",
      "14400/14400 [==============================] - 45s 3ms/step - loss: 0.2457 - acc: 0.8221 - val_loss: 0.3157 - val_acc: 0.8132\n",
      "Epoch 70/100\n",
      "14400/14400 [==============================] - 45s 3ms/step - loss: 0.2368 - acc: 0.8319 - val_loss: 0.3215 - val_acc: 0.8122\n",
      "Epoch 71/100\n",
      "14400/14400 [==============================] - 45s 3ms/step - loss: 0.2331 - acc: 0.8344 - val_loss: 0.3211 - val_acc: 0.8116\n",
      "Epoch 72/100\n",
      "14400/14400 [==============================] - 45s 3ms/step - loss: 0.2505 - acc: 0.8225 - val_loss: 0.3245 - val_acc: 0.8139\n",
      "Epoch 73/100\n",
      "14400/14400 [==============================] - 45s 3ms/step - loss: 0.2443 - acc: 0.8278 - val_loss: 0.3114 - val_acc: 0.8112\n",
      "Epoch 74/100\n",
      "14400/14400 [==============================] - 45s 3ms/step - loss: 0.2359 - acc: 0.8287 - val_loss: 0.3211 - val_acc: 0.8176\n",
      "Epoch 75/100\n",
      "14400/14400 [==============================] - 45s 3ms/step - loss: 0.2517 - acc: 0.8245 - val_loss: 0.3103 - val_acc: 0.8245\n",
      "Epoch 76/100\n",
      "14400/14400 [==============================] - 46s 3ms/step - loss: 0.2371 - acc: 0.8325 - val_loss: 0.3179 - val_acc: 0.8175\n",
      "Epoch 77/100\n",
      "14400/14400 [==============================] - 52s 4ms/step - loss: 0.2367 - acc: 0.8325 - val_loss: 0.3237 - val_acc: 0.8048\n",
      "Epoch 78/100\n",
      "14400/14400 [==============================] - 47s 3ms/step - loss: 0.2301 - acc: 0.8371 - val_loss: 0.3271 - val_acc: 0.8200\n",
      "Epoch 79/100\n",
      "14400/14400 [==============================] - 47s 3ms/step - loss: 0.2292 - acc: 0.8289 - val_loss: 0.3113 - val_acc: 0.8058\n",
      "Epoch 80/100\n",
      "14400/14400 [==============================] - 46s 3ms/step - loss: 0.2318 - acc: 0.8299 - val_loss: 0.3244 - val_acc: 0.7842\n",
      "Epoch 81/100\n",
      "14400/14400 [==============================] - 45s 3ms/step - loss: 0.2282 - acc: 0.8351 - val_loss: 0.3230 - val_acc: 0.8243\n",
      "Epoch 82/100\n",
      "14400/14400 [==============================] - 46s 3ms/step - loss: 0.2206 - acc: 0.8374 - val_loss: 0.3267 - val_acc: 0.8080\n",
      "Epoch 83/100\n",
      "14400/14400 [==============================] - 46s 3ms/step - loss: 0.2412 - acc: 0.8234 - val_loss: 0.3281 - val_acc: 0.8213\n",
      "Epoch 84/100\n",
      "14400/14400 [==============================] - 46s 3ms/step - loss: 0.2257 - acc: 0.8319 - val_loss: 0.3215 - val_acc: 0.8301\n",
      "Epoch 85/100\n",
      "14400/14400 [==============================] - 46s 3ms/step - loss: 0.2234 - acc: 0.8360 - val_loss: 0.3148 - val_acc: 0.8156\n",
      "Epoch 86/100\n",
      "14400/14400 [==============================] - 45s 3ms/step - loss: 0.2197 - acc: 0.8407 - val_loss: 0.3198 - val_acc: 0.8253\n",
      "Epoch 87/100\n",
      "14400/14400 [==============================] - 48s 3ms/step - loss: 0.2239 - acc: 0.8326 - val_loss: 0.3222 - val_acc: 0.8163\n",
      "Epoch 88/100\n",
      "14400/14400 [==============================] - 53s 4ms/step - loss: 0.2237 - acc: 0.8379 - val_loss: 0.3412 - val_acc: 0.8195\n",
      "Epoch 89/100\n",
      "14400/14400 [==============================] - 46s 3ms/step - loss: 0.2230 - acc: 0.8286 - val_loss: 0.3134 - val_acc: 0.8229\n",
      "Epoch 90/100\n",
      "14400/14400 [==============================] - 47s 3ms/step - loss: 0.2436 - acc: 0.8239 - val_loss: 0.3279 - val_acc: 0.8008\n",
      "Epoch 91/100\n",
      "14400/14400 [==============================] - 47s 3ms/step - loss: 0.2265 - acc: 0.8346 - val_loss: 0.3192 - val_acc: 0.8064\n",
      "Epoch 92/100\n",
      "14400/14400 [==============================] - 46s 3ms/step - loss: 0.2230 - acc: 0.8396 - val_loss: 0.3185 - val_acc: 0.8272\n",
      "Epoch 93/100\n",
      "14400/14400 [==============================] - 46s 3ms/step - loss: 0.2125 - acc: 0.8475 - val_loss: 0.3156 - val_acc: 0.8190\n",
      "Epoch 94/100\n",
      "14400/14400 [==============================] - 46s 3ms/step - loss: 0.2373 - acc: 0.8253 - val_loss: 0.3187 - val_acc: 0.8098\n",
      "Epoch 95/100\n",
      "14400/14400 [==============================] - 45s 3ms/step - loss: 0.2144 - acc: 0.8465 - val_loss: 0.3273 - val_acc: 0.8224\n",
      "Epoch 96/100\n",
      "14400/14400 [==============================] - 45s 3ms/step - loss: 0.2190 - acc: 0.8389 - val_loss: 0.3279 - val_acc: 0.8120\n",
      "Epoch 97/100\n",
      "14400/14400 [==============================] - 45s 3ms/step - loss: 0.2223 - acc: 0.8311 - val_loss: 0.3179 - val_acc: 0.8241\n",
      "Epoch 98/100\n",
      "14400/14400 [==============================] - 49s 3ms/step - loss: 0.2200 - acc: 0.8341 - val_loss: 0.3144 - val_acc: 0.8139\n",
      "Epoch 99/100\n",
      "14400/14400 [==============================] - 49s 3ms/step - loss: 0.2115 - acc: 0.8411 - val_loss: 0.3225 - val_acc: 0.8167\n",
      "Epoch 100/100\n",
      "14400/14400 [==============================] - 46s 3ms/step - loss: 0.2150 - acc: 0.8359 - val_loss: 0.3318 - val_acc: 0.8229\n"
     ]
    },
    {
     "data": {
      "text/plain": [
       "<keras.callbacks.History at 0x7f37304d8e48>"
      ]
     },
     "execution_count": 16,
     "metadata": {},
     "output_type": "execute_result"
    }
   ],
   "source": [
    "model = Sequential() \n",
    "model.add(Conv2D(64, (5, 5), input_shape=(64, 64, 3))) \n",
    "model.add(Activation('relu')) \n",
    "model.add(MaxPooling2D(pool_size=(2, 2)))\n",
    "model.add(Dropout(0.1)) \n",
    "  \n",
    "model.add(Conv2D(32, (3, 3))) \n",
    "model.add(Activation('relu')) \n",
    "model.add(MaxPooling2D(pool_size=(2, 2))) \n",
    "model.add(Dropout(0.1)) \n",
    "  \n",
    "model.add(Conv2D(32, (3, 3))) \n",
    "model.add(Activation('relu')) \n",
    "model.add(MaxPooling2D(pool_size=(2, 2))) \n",
    "model.add(Dropout(0.1)) \n",
    "  \n",
    "model.add(Flatten()) \n",
    "model.add(Dense(50)) #Increase to see how accuracy performs \n",
    "#consider also with 0.1 dropout it went from training with 25 to training with 45\n",
    "\n",
    "model.add(Activation('relu')) \n",
    "model.add(Dropout(0.1)) #compare 0.5 with to 0.1 then 0.2 and 0.3\n",
    "model.add(Dense(1)) \n",
    "# model.add(Activation('sigmoid')) \n",
    "model.add(Dense(3, activation='sigmoid'))\n",
    "\n",
    "model.compile(loss='binary_crossentropy', \n",
    "              optimizer='adam', \n",
    "              metrics=['accuracy']) \n",
    "\n",
    "tensorboard = TensorBoard(log_dir=\"logs/{}\".format(model_name))\n",
    "# early_stop = EarlyStopping(monitor='val_loss', patience=5)\n",
    "checkpoint = ModelCheckpoint(filepath='models/' + model_name + '.h5', monitor='val_accuracy', \n",
    "                             save_best_only=True)\n",
    "\n",
    "model.fit(train_images_data, train_images_labels, epochs=100, validation_split=0.2, batch_size=128,\n",
    "          callbacks=[tensorboard, checkpoint]) #move batch size to 32, 64, 128\n",
    "#and finally 256 see how accuracy performs\n",
    "\n",
    "#remember to try out with dropout per layer"
   ]
  },
  {
   "cell_type": "code",
   "execution_count": null,
   "metadata": {},
   "outputs": [],
   "source": [
    "model.save('models/' + model_name + '.h5')"
   ]
  },
  {
   "cell_type": "code",
   "execution_count": null,
   "metadata": {},
   "outputs": [],
   "source": []
  }
 ],
 "metadata": {
  "kernelspec": {
   "display_name": "Python 3",
   "language": "python",
   "name": "python3"
  },
  "language_info": {
   "codemirror_mode": {
    "name": "ipython",
    "version": 3
   },
   "file_extension": ".py",
   "mimetype": "text/x-python",
   "name": "python",
   "nbconvert_exporter": "python",
   "pygments_lexer": "ipython3",
   "version": "3.6.10"
  }
 },
 "nbformat": 4,
 "nbformat_minor": 4
}
